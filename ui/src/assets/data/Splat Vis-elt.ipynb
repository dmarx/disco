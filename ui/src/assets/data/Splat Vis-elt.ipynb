{
 "cells": [
  {
   "cell_type": "code",
   "execution_count": 1,
   "id": "2e8f87dc",
   "metadata": {},
   "outputs": [],
   "source": [
    "# pre-requisites:\n",
    "# ensure that the keylines folder (https://sdk.keylines.com/public/keylines-6.5.0-64488.zip or your preferred version)\n",
    "# is in ~/.ipython/nbextensions\n",
    "#jupyter notebook   --NotebookApp.allow_origin='https://colab.research.google.com'   --port=8888   --NotebookApp.port_retries=0"
   ]
  },
  {
   "cell_type": "code",
   "execution_count": 1,
   "id": "cf46e3b0",
   "metadata": {},
   "outputs": [],
   "source": [
    "import networkx as nx\n",
    "import json\n",
    "from IPython.display import Javascript\n",
    "import pandas as pd\n",
    "import random"
   ]
  },
  {
   "cell_type": "code",
   "execution_count": 10,
   "id": "7ff921c2",
   "metadata": {
    "scrolled": true
   },
   "outputs": [
    {
     "ename": "FileNotFoundError",
     "evalue": "[Errno 2] No such file or directory: 'C:\\\\Dev\\\\Chorus\\\\chorus-mockup\\\\src\\\\assets\\\\data\\\\resolved_combined.xlsx'",
     "output_type": "error",
     "traceback": [
      "\u001b[0;31m---------------------------------------------------------------------------\u001b[0m",
      "\u001b[0;31mFileNotFoundError\u001b[0m                         Traceback (most recent call last)",
      "\u001b[0;32m/tmp/ipykernel_18170/2550341654.py\u001b[0m in \u001b[0;36m<module>\u001b[0;34m\u001b[0m\n\u001b[1;32m      1\u001b[0m \u001b[0;31m# Load excel ELT into pandas DFs\u001b[0m\u001b[0;34m\u001b[0m\u001b[0;34m\u001b[0m\u001b[0;34m\u001b[0m\u001b[0m\n\u001b[0;32m----> 2\u001b[0;31m \u001b[0mmulti_sheet_file\u001b[0m \u001b[0;34m=\u001b[0m \u001b[0mpd\u001b[0m\u001b[0;34m.\u001b[0m\u001b[0mExcelFile\u001b[0m\u001b[0;34m(\u001b[0m\u001b[0;34m\"C:\\\\Dev\\\\Chorus\\\\chorus-mockup\\\\src\\\\assets\\\\data\\\\resolved_combined.xlsx\"\u001b[0m\u001b[0;34m)\u001b[0m\u001b[0;34m\u001b[0m\u001b[0;34m\u001b[0m\u001b[0m\n\u001b[0m\u001b[1;32m      3\u001b[0m \u001b[0;34m\u001b[0m\u001b[0m\n\u001b[1;32m      4\u001b[0m \u001b[0;31m# Gets the sheet names in the file\u001b[0m\u001b[0;34m\u001b[0m\u001b[0;34m\u001b[0m\u001b[0;34m\u001b[0m\u001b[0m\n\u001b[1;32m      5\u001b[0m \u001b[0mexcel_sheet_names\u001b[0m \u001b[0;34m=\u001b[0m \u001b[0mmulti_sheet_file\u001b[0m\u001b[0;34m.\u001b[0m\u001b[0msheet_names\u001b[0m\u001b[0;34m\u001b[0m\u001b[0;34m\u001b[0m\u001b[0m\n",
      "\u001b[0;32m~/.local/lib/python3.8/site-packages/pandas/io/excel/_base.py\u001b[0m in \u001b[0;36m__init__\u001b[0;34m(self, path_or_buffer, engine, storage_options)\u001b[0m\n\u001b[1;32m   1189\u001b[0m                 \u001b[0mext\u001b[0m \u001b[0;34m=\u001b[0m \u001b[0;34m\"xls\"\u001b[0m\u001b[0;34m\u001b[0m\u001b[0;34m\u001b[0m\u001b[0m\n\u001b[1;32m   1190\u001b[0m             \u001b[0;32melse\u001b[0m\u001b[0;34m:\u001b[0m\u001b[0;34m\u001b[0m\u001b[0;34m\u001b[0m\u001b[0m\n\u001b[0;32m-> 1191\u001b[0;31m                 ext = inspect_excel_format(\n\u001b[0m\u001b[1;32m   1192\u001b[0m                     \u001b[0mcontent_or_path\u001b[0m\u001b[0;34m=\u001b[0m\u001b[0mpath_or_buffer\u001b[0m\u001b[0;34m,\u001b[0m \u001b[0mstorage_options\u001b[0m\u001b[0;34m=\u001b[0m\u001b[0mstorage_options\u001b[0m\u001b[0;34m\u001b[0m\u001b[0;34m\u001b[0m\u001b[0m\n\u001b[1;32m   1193\u001b[0m                 )\n",
      "\u001b[0;32m~/.local/lib/python3.8/site-packages/pandas/io/excel/_base.py\u001b[0m in \u001b[0;36minspect_excel_format\u001b[0;34m(content_or_path, storage_options)\u001b[0m\n\u001b[1;32m   1068\u001b[0m         \u001b[0mcontent_or_path\u001b[0m \u001b[0;34m=\u001b[0m \u001b[0mBytesIO\u001b[0m\u001b[0;34m(\u001b[0m\u001b[0mcontent_or_path\u001b[0m\u001b[0;34m)\u001b[0m\u001b[0;34m\u001b[0m\u001b[0;34m\u001b[0m\u001b[0m\n\u001b[1;32m   1069\u001b[0m \u001b[0;34m\u001b[0m\u001b[0m\n\u001b[0;32m-> 1070\u001b[0;31m     with get_handle(\n\u001b[0m\u001b[1;32m   1071\u001b[0m         \u001b[0mcontent_or_path\u001b[0m\u001b[0;34m,\u001b[0m \u001b[0;34m\"rb\"\u001b[0m\u001b[0;34m,\u001b[0m \u001b[0mstorage_options\u001b[0m\u001b[0;34m=\u001b[0m\u001b[0mstorage_options\u001b[0m\u001b[0;34m,\u001b[0m \u001b[0mis_text\u001b[0m\u001b[0;34m=\u001b[0m\u001b[0;32mFalse\u001b[0m\u001b[0;34m\u001b[0m\u001b[0;34m\u001b[0m\u001b[0m\n\u001b[1;32m   1072\u001b[0m     ) as handle:\n",
      "\u001b[0;32m~/.local/lib/python3.8/site-packages/pandas/io/common.py\u001b[0m in \u001b[0;36mget_handle\u001b[0;34m(path_or_buf, mode, encoding, compression, memory_map, is_text, errors, storage_options)\u001b[0m\n\u001b[1;32m    709\u001b[0m         \u001b[0;32melse\u001b[0m\u001b[0;34m:\u001b[0m\u001b[0;34m\u001b[0m\u001b[0;34m\u001b[0m\u001b[0m\n\u001b[1;32m    710\u001b[0m             \u001b[0;31m# Binary mode\u001b[0m\u001b[0;34m\u001b[0m\u001b[0;34m\u001b[0m\u001b[0;34m\u001b[0m\u001b[0m\n\u001b[0;32m--> 711\u001b[0;31m             \u001b[0mhandle\u001b[0m \u001b[0;34m=\u001b[0m \u001b[0mopen\u001b[0m\u001b[0;34m(\u001b[0m\u001b[0mhandle\u001b[0m\u001b[0;34m,\u001b[0m \u001b[0mioargs\u001b[0m\u001b[0;34m.\u001b[0m\u001b[0mmode\u001b[0m\u001b[0;34m)\u001b[0m\u001b[0;34m\u001b[0m\u001b[0;34m\u001b[0m\u001b[0m\n\u001b[0m\u001b[1;32m    712\u001b[0m         \u001b[0mhandles\u001b[0m\u001b[0;34m.\u001b[0m\u001b[0mappend\u001b[0m\u001b[0;34m(\u001b[0m\u001b[0mhandle\u001b[0m\u001b[0;34m)\u001b[0m\u001b[0;34m\u001b[0m\u001b[0;34m\u001b[0m\u001b[0m\n\u001b[1;32m    713\u001b[0m \u001b[0;34m\u001b[0m\u001b[0m\n",
      "\u001b[0;31mFileNotFoundError\u001b[0m: [Errno 2] No such file or directory: 'C:\\\\Dev\\\\Chorus\\\\chorus-mockup\\\\src\\\\assets\\\\data\\\\resolved_combined.xlsx'"
     ]
    }
   ],
   "source": [
    "# Load excel ELT into pandas DFs\n",
    "multi_sheet_file = pd.ExcelFile(\"C:\\\\Dev\\\\Chorus\\\\chorus-mockup\\\\src\\\\assets\\\\data\\\\resolved_combined.xlsx\")\n",
    "\n",
    "# Gets the sheet names in the file\n",
    "excel_sheet_names = multi_sheet_file.sheet_names\n",
    "\n",
    "dict_of_sheets = {}\n",
    "for sheet in excel_sheet_names:\n",
    "    dict_of_sheets[sheet] = pd.read_excel(multi_sheet_file, sheet_name=sheet)"
   ]
  },
  {
   "cell_type": "code",
   "execution_count": null,
   "id": "70173379",
   "metadata": {
    "scrolled": true
   },
   "outputs": [],
   "source": [
    "# Load into networkx\n",
    "row_record_type = \"PATHWAY REF\"\n",
    "graph = nx.Graph()\n",
    "\n",
    "icon_map = {\n",
    "    \"Suspect\": {\"t\": '👤', \"c\": \"blue\"},\n",
    "    \"Address\": {\"t\": '🏢', \"c\": \"grey\"},\n",
    "    \"Location\": {\"t\": '🏢', \"c\": \"grey\"},\n",
    "}\n",
    "\n",
    "label_map = {\n",
    "    \"Suspect\": [\"First Name\", \"Surname\", \"dob\"],\n",
    "    \"Address\": [\"Line address1\", \"Line Address2\", \"County\", \"Postcode\"]\n",
    "}\n",
    "\n",
    "def handle_entity_row(sheet_name, row):\n",
    "    label = row['Label']\n",
    "    \n",
    "#     if sheet_name in label_map:\n",
    "#         label_cols = label_map[sheet_name]\n",
    "#         for col in label_cols:\n",
    "#             label += str(row[col]) + \" \"\n",
    "#     else:\n",
    "#         label = str(pd.Series.to_csv(row))\n",
    "\n",
    "    if sheet_name in icon_map:\n",
    "        icon_attr = icon_map[sheet_name]\n",
    "    else:\n",
    "        icon_attr = {\"t\": '❓', \"c\": \"red\"}\n",
    "    \n",
    "    graph.add_node(row[sheet_name + \" ID\"], label=row['Label'], icon_attr=icon_attr)\n",
    "\n",
    "def handle_link_row(sheet_name, row):\n",
    "    \n",
    "    graph.add_edge(row[0], row[1])\n",
    "    \n",
    "for sheet_name, dataframe in dict_of_sheets.items():\n",
    "    pk_row_name = row_record_type + \" ID\"\n",
    "    if ' to ' in sheet_name:\n",
    "        # link sheet\n",
    "        dataframe.apply(lambda row: handle_link_row(sheet_name, row), axis=1)\n",
    "    else:\n",
    "        # entity sheet\n",
    "        dataframe.apply(lambda row: handle_entity_row(sheet_name, row), axis=1)\n",
    "\n",
    "graph_json_data = nx.node_link_data(graph)"
   ]
  },
  {
   "cell_type": "code",
   "execution_count": null,
   "id": "10b3383f",
   "metadata": {
    "scrolled": true
   },
   "outputs": [],
   "source": [
    "# parse data into something keylines can handle\n",
    "import json \n",
    "\n",
    "keylines_data = {\n",
    "    \"type\": \"LinkChart\",\n",
    "    \"items\": []\n",
    "}\n",
    "\n",
    "for node in graph_json_data[\"nodes\"]:\n",
    "    if 'label' not in node.keys():\n",
    "        print(node)\n",
    "        continue\n",
    "    label = node['label']\n",
    "\n",
    "        \n",
    "    keylines_data['items'].append({\n",
    "        \"id\": node['id'],\n",
    "        \"type\": \"node\",\n",
    "        \"t\": label,\n",
    "        \"fi\": node['icon_attr'] if 'icon_attr' in node else {\"t\": '❓', \"c\": \"red\"}\n",
    "    })\n",
    "    \n",
    "for link in graph_json_data[\"links\"]:\n",
    "    keylines_data['items'].append({\n",
    "        \"id\": str(link['source']) + \"-\" + str(link['target']),\n",
    "        \"type\": \"link\",\n",
    "        \"id1\": link['source'],\n",
    "        \"id2\": link['target']\n",
    "    })\n",
    "    \n",
    "\n",
    "    \n",
    "Javascript(\"\"\"\n",
    "          window.data={};\n",
    "          \"\"\".format(json.dumps(keylines_data)))\n"
   ]
  },
  {
   "cell_type": "code",
   "execution_count": null,
   "id": "e4230101",
   "metadata": {
    "scrolled": false
   },
   "outputs": [],
   "source": [
    "%%javascript\n",
    "$('#kl').remove();\n",
    "element.append('<div id=\"kl\"style=\"height:600px\"></div>');"
   ]
  },
  {
   "cell_type": "code",
   "execution_count": null,
   "id": "1678b366",
   "metadata": {},
   "outputs": [],
   "source": [
    "%%javascript\n",
    "\n",
    "function linkedToOpenCombo(linkId, instance) {\n",
    "      const link = instance.getItem(linkId);\n",
    "      const node1 = instance.combo().find(link.id1);\n",
    "      const node2 = instance.combo().find(link.id2);\n",
    "      // Filter out non-combo ends of the link\n",
    "      const linkEndCombos = [node1, node2].filter((id) => instance.combo().isCombo(id));\n",
    "      // Return true only if one of the links is an open combo\n",
    "      return linkEndCombos.some((comboId) => iInstance.combo().isOpen(comboId));\n",
    "}\n",
    "\n",
    "require([\"nbextensions/keylines/js/keylines\"], function (KeyLines) {\n",
    "    // We can use the KeyLines API as normal in here\n",
    "    KeyLines.promisify();\n",
    "    KeyLines.create({type: 'chart', id: 'kl'}).then(chart => {\n",
    "    \n",
    "        chart.load(window.data).then(() => {\n",
    "            chart.zoom('fit');\n",
    "            const engine = window.KeyLines.getGraphEngine();\n",
    "            chart.on('selection-change', () => {\n",
    "      // Get the current state\n",
    "      const ids = chart.selection().filter((id) => chart.getItem(id).type === 'node');\n",
    "      if (ids.length === 1) {\n",
    "        // Get, show (if required), and foreground the neighbours of the underlying items\n",
    "        engine.load(chart.serialize());\n",
    "        // The method for getting neighbours of combos and noncombos is slightly different\n",
    "        // So we have to use a different method for each\n",
    "        const combos = ids.filter((id) => chart.combo().isCombo(id));\n",
    "        const comboNeighbours = chart.graph().neighbours(combos);\n",
    "        const nonCombos = ids.filter((id) => !chart.combo().isCombo(id));\n",
    "        const nonComboNeighbours = engine.neighbours(nonCombos);\n",
    "        // Get all the links involved\n",
    "        const links = comboNeighbours.links.concat(nonComboNeighbours.links);\n",
    "        // And filter them such that they only include ones linked to an open combo.\n",
    "        chart.combo().reveal(links.filter(linkID => linkedToOpenCombo(linkID, chart)));\n",
    "        if (combos.length) {\n",
    "          // This allows combos to become selected as there's no 'all' option for chart.foreground\n",
    "          chart.foreground((item) => links.includes(item.id), { type: 'link', items: 'toplevel' });\n",
    "        }\n",
    "        if (nonCombos.length) {\n",
    "          chart.foreground((item) => links.includes(item.id), { type: 'link' });\n",
    "        }\n",
    "      } else {\n",
    "        // No items selected, foreground everything\n",
    "        chart.combo().reveal([]);\n",
    "        chart.foreground(() => true);\n",
    "      }\n",
    "            })\n",
    "        }).then(() => {\n",
    "            chart.layout(\"radial\");\n",
    "        })\n",
    "    })\n",
    "});"
   ]
  },
  {
   "cell_type": "code",
   "execution_count": null,
   "id": "360eaefd",
   "metadata": {},
   "outputs": [],
   "source": []
  },
  {
   "cell_type": "code",
   "execution_count": null,
   "id": "d0bcadaf",
   "metadata": {},
   "outputs": [],
   "source": []
  },
  {
   "cell_type": "code",
   "execution_count": null,
   "id": "e8925d8e",
   "metadata": {},
   "outputs": [],
   "source": []
  },
  {
   "cell_type": "code",
   "execution_count": null,
   "id": "0ed7774d",
   "metadata": {},
   "outputs": [],
   "source": []
  }
 ],
 "metadata": {
  "kernelspec": {
   "display_name": "Python 3 (ipykernel)",
   "language": "python",
   "name": "python3"
  },
  "language_info": {
   "codemirror_mode": {
    "name": "ipython",
    "version": 3
   },
   "file_extension": ".py",
   "mimetype": "text/x-python",
   "name": "python",
   "nbconvert_exporter": "python",
   "pygments_lexer": "ipython3",
   "version": "3.8.10"
  }
 },
 "nbformat": 4,
 "nbformat_minor": 5
}
