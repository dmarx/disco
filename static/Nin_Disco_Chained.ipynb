{
  "nbformat": 4,
  "nbformat_minor": 0,
  "metadata": {
    "colab": {
      "name": "Copy of Nin Disco Chained.ipynb",
      "provenance": [],
      "collapsed_sections": []
    },
    "kernelspec": {
      "name": "python3",
      "display_name": "Python 3"
    },
    "language_info": {
      "name": "python"
    },
    "accelerator": "GPU"
  },
  "cells": [
    {
      "cell_type": "code",
      "source": [
        "!git clone https://github.com/twmmason/disco"
      ],
      "metadata": {
        "colab": {
          "base_uri": "https://localhost:8080/"
        },
        "id": "K-INyANQnWFu",
        "outputId": "4b490d22-d264-476d-f252-8cde0434a354"
      },
      "execution_count": 1,
      "outputs": [
        {
          "output_type": "stream",
          "name": "stdout",
          "text": [
            "Cloning into 'disco'...\n",
            "remote: Enumerating objects: 3553, done.\u001b[K\n",
            "remote: Counting objects: 100% (451/451), done.\u001b[K\n",
            "remote: Compressing objects: 100% (296/296), done.\u001b[K\n",
            "remote: Total 3553 (delta 202), reused 353 (delta 139), pack-reused 3102\u001b[K\n",
            "Receiving objects: 100% (3553/3553), 178.61 MiB | 31.32 MiB/s, done.\n",
            "Resolving deltas: 100% (894/894), done.\n"
          ]
        }
      ]
    },
    {
      "cell_type": "code",
      "source": [
        "%cd /content/disco\n",
        "!git checkout generator_test"
      ],
      "metadata": {
        "colab": {
          "base_uri": "https://localhost:8080/"
        },
        "id": "OSrV71Rqo0Sl",
        "outputId": "0a055036-11a8-400e-c0ca-00d33c12350b"
      },
      "execution_count": 1,
      "outputs": [
        {
          "output_type": "stream",
          "name": "stdout",
          "text": [
            "/content/disco\n",
            "M\tmodules/generators/generator_arbitrary/generator.py\n",
            "M\tmodules/manager/chain/chain.py\n",
            "M\tstatic/data/projects/1/data.json\n",
            "Already on 'generator_test'\n",
            "Your branch is up to date with 'origin/generator_test'.\n"
          ]
        }
      ]
    },
    {
      "cell_type": "code",
      "source": [
        "!pip install piq ftfy ipywidgets lpips pytorch_lit pandas timm pip pytorch-lightning einops omegaconf flask_cors dependency-injector twilio encoders dill dalle2_pytorch matplotlib opencv-python"
      ],
      "metadata": {
        "id": "qXx0AA6LuVGo"
      },
      "execution_count": null,
      "outputs": []
    },
    {
      "cell_type": "code",
      "source": [
        "!python install.py"
      ],
      "metadata": {
        "id": "CqCDwnJgedZ-"
      },
      "execution_count": 4,
      "outputs": []
    },
    {
      "cell_type": "code",
      "source": [
        "# If in a low GPU memory environment, make the following changes\n",
        "# Change modules/generators/generator_ld/generator.py line 588 self.args.clip_guidance=False, line 414 and 421 map_location=\"cpu\""
      ],
      "metadata": {
        "id": "12dwUhAk3uHo"
      },
      "execution_count": null,
      "outputs": []
    },
    {
      "cell_type": "code",
      "source": [
        "import os, sys\n",
        "PROJECT_DIR=os.getcwd()\n",
        "sys.path.append(f'{PROJECT_DIR}/lib/gl_3_xl')\n",
        "sys.path.append(f'{PROJECT_DIR}/lib/CLIP')\n",
        "sys.path.append(f'{PROJECT_DIR}/lib/MiDaS')\n",
        "sys.path.append(f'{PROJECT_DIR}/lib/AdaBins')\n",
        "sys.path.append(f'{PROJECT_DIR}/lib/latent-diffusion')\n",
        "sys.path.append(f'{PROJECT_DIR}/lib/ResizeRight')\n",
        "sys.path.append(f'{PROJECT_DIR}/lib/pytorch3d-lite')\n",
        "\n",
        "import argparse\n",
        "import json\n",
        "from types import SimpleNamespace\n",
        "from modules.manager.chain.chain import Chain\n",
        "from modules.manager.projects.api import Api\n",
        "from modules.manager.projects.project import Project\n"
      ],
      "metadata": {
        "id": "0Iekj5r-gy4T",
        "colab": {
          "base_uri": "https://localhost:8080/"
        },
        "outputId": "30046da1-a393-4784-feb2-6e4faa2ecbf2"
      },
      "execution_count": 2,
      "outputs": [
        {
          "output_type": "stream",
          "name": "stderr",
          "text": [
            "/usr/local/lib/python3.7/dist-packages/torch/autocast_mode.py:162: UserWarning: User provided device_type of 'cuda', but CUDA is not available. Disabling\n",
            "  warnings.warn('User provided device_type of \\'cuda\\', but CUDA is not available. Disabling')\n"
          ]
        }
      ]
    },
    {
      "cell_type": "code",
      "source": [
        "def run_custom():\n",
        "    # Empty prompt will generate a 4-color grid, URL of image in prompt will pull down that image\n",
        "    prompt = \"\"\n",
        "    # prompt = \"https://cdn.discordapp.com/attachments/970060442774958151/970073453052985445/BeepleBrandingConsultancy-PANCE-9.png\"\n",
        "\n",
        "    arbitrary_code_to_run = \"\"\"\n",
        "# Converts output of previous generator to black and white (dithering)\n",
        "# and adds prompt as text in top left corner\n",
        "import numpy as np\n",
        "import os\n",
        "from PIL import Image\n",
        "from PIL import ImageDraw\n",
        "\n",
        "im = Image.open(init_image)\n",
        "im = im.convert('1')\n",
        "draw = ImageDraw.Draw(im)\n",
        "draw.text((0, 0), prompt, (255))\n",
        "\n",
        "filename_out = \"bw.png\"\n",
        "im.save(os.path.join(\"content/output\", filename_out))\n",
        "im.save(os.path.join(\"static/output\", filename_out))\n",
        "    \"\"\"\n",
        "    project = Project(1)\n",
        "    project.generators = [\n",
        "        SimpleNamespace(\n",
        "            **{\n",
        "                \"id\": 0,\n",
        "                \"type\": 0,\n",
        "                \"settings\": {\n",
        "                    \"prompt\":prompt,\n",
        "                    \"reflect\": True,\n",
        "                },\n",
        "            }\n",
        "        ),\n",
        "        # SimpleNamespace(\n",
        "        #     **{\n",
        "        #         \"id\": 0,\n",
        "        #         \"type\": 0,\n",
        "        #         \"settings\": {\n",
        "        #             \"prompt\":\"this prompt will be ignored because it's a chain\",\n",
        "        #             \"reflect\": True,\n",
        "        #         },\n",
        "        #     }\n",
        "        # ),\n",
        "        SimpleNamespace(\n",
        "            **{\n",
        "                \"id\": 0,\n",
        "                \"type\": 5,\n",
        "                \"settings\": {\n",
        "                    \"prompt\": \"Hello World\",\n",
        "                    \"code\": arbitrary_code_to_run,\n",
        "                },\n",
        "            }\n",
        "        ),\n",
        "    ]\n",
        "\n",
        "    print(\"running project chain...\")\n",
        "    chain = Chain()\n",
        "    chain.filename = chain.run_project(project)\n",
        "run_custom()"
      ],
      "metadata": {
        "id": "c3e67wLPg7BB",
        "outputId": "aa7017d3-3c0e-4f20-ec6a-ce3e1e0e242d",
        "colab": {
          "base_uri": "https://localhost:8080/"
        }
      },
      "execution_count": 15,
      "outputs": [
        {
          "output_type": "stream",
          "name": "stdout",
          "text": [
            "running project chain...\n",
            "Using device: cpu\n",
            "Running project 1: \n",
            "namespace(id=0, settings={'prompt': '', 'reflect': True, 'prefix': '140891'}, type=0) 140891_test.png static/data/projects/1/output/0/ 140891_test.png\n",
            "Saving Updated [namespace(id=0, output_path='data/projects/1/output/0//140891_test.png', settings={'prompt': '', 'reflect': True, 'prefix': '140891'}, type=0), namespace(id=0, settings={'prompt': 'Hello World', 'code': '\\nimport numpy as np\\nimport os\\nfrom PIL import Image\\nfrom PIL import ImageDraw\\n\\nim = Image.open(init_image)\\nim = im.convert(\\'1\\')\\ndraw = ImageDraw.Draw(im)\\ndraw.text((0, 0), prompt, (255))\\n\\nfilename_out = \"bw.png\"\\nim.save(os.path.join(\"content/output\", filename_out))\\nim.save(os.path.join(\"static/output\", filename_out))\\n    '}, type=5)]\n",
            "Finished project 1: \n",
            "ad\n",
            "namespace(id=0, settings={'prompt': 'Hello World', 'code': '\\nimport numpy as np\\nimport os\\nfrom PIL import Image\\nfrom PIL import ImageDraw\\n\\nim = Image.open(init_image)\\nim = im.convert(\\'1\\')\\ndraw = ImageDraw.Draw(im)\\ndraw.text((0, 0), prompt, (255))\\n\\nfilename_out = \"bw.png\"\\nim.save(os.path.join(\"content/output\", filename_out))\\nim.save(os.path.join(\"static/output\", filename_out))\\n    ', 'prefix': '596853', 'init_image': '/content/disco/static/output/140891_test.png'}, type=5) bw.png static/data/projects/1/output/5/ bw.png\n",
            "Saving Updated [namespace(id=0, output_path='data/projects/1/output/0//140891_test.png', settings={'prompt': '', 'reflect': True, 'prefix': '140891'}, type=0), namespace(id=0, output_path='data/projects/1/output/5//bw.png', settings={'prompt': 'Hello World', 'code': '\\nimport numpy as np\\nimport os\\nfrom PIL import Image\\nfrom PIL import ImageDraw\\n\\nim = Image.open(init_image)\\nim = im.convert(\\'1\\')\\ndraw = ImageDraw.Draw(im)\\ndraw.text((0, 0), prompt, (255))\\n\\nfilename_out = \"bw.png\"\\nim.save(os.path.join(\"content/output\", filename_out))\\nim.save(os.path.join(\"static/output\", filename_out))\\n    ', 'prefix': '596853', 'init_image': '/content/disco/static/output/140891_test.png'}, type=5)]\n",
            "Finished project 1: \n",
            "ad\n"
          ]
        }
      ]
    }
  ]
}